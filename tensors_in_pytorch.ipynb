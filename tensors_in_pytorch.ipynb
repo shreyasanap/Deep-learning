{
  "nbformat": 4,
  "nbformat_minor": 0,
  "metadata": {
    "colab": {
      "provenance": [],
      "gpuType": "T4",
      "authorship_tag": "ABX9TyOw3EfBCE/E+bgQhLoJdVLb",
      "include_colab_link": true
    },
    "kernelspec": {
      "name": "python3",
      "display_name": "Python 3"
    },
    "language_info": {
      "name": "python"
    },
    "accelerator": "GPU"
  },
  "cells": [
    {
      "cell_type": "markdown",
      "metadata": {
        "id": "view-in-github",
        "colab_type": "text"
      },
      "source": [
        "<a href=\"https://colab.research.google.com/github/shreyasanap/Deep-learning-Projects/blob/main/tensors_in_pytorch.ipynb\" target=\"_parent\"><img src=\"https://colab.research.google.com/assets/colab-badge.svg\" alt=\"Open In Colab\"/></a>"
      ]
    },
    {
      "cell_type": "code",
      "execution_count": null,
      "metadata": {
        "colab": {
          "base_uri": "https://localhost:8080/"
        },
        "id": "keIfNy4fOrJB",
        "outputId": "b581388e-264a-41b9-efda-90f66660b3a5"
      },
      "outputs": [
        {
          "output_type": "stream",
          "name": "stdout",
          "text": [
            "2.5.1+cu124\n"
          ]
        }
      ],
      "source": [
        "import torch\n",
        "print(torch.__version__)"
      ]
    },
    {
      "cell_type": "code",
      "source": [
        "if torch.cuda.is_available():\n",
        "  print(\"GPU is available!\")\n",
        "  print(f\"Using GPU:{torch.cuda.get_device_name(0)}\")\n",
        "else:\n",
        "  print(\"GPU not available. Using CPU\")"
      ],
      "metadata": {
        "colab": {
          "base_uri": "https://localhost:8080/"
        },
        "id": "8svCkGZXO5F_",
        "outputId": "ce15eb56-c197-4068-d3dd-02986453868e"
      },
      "execution_count": null,
      "outputs": [
        {
          "output_type": "stream",
          "name": "stdout",
          "text": [
            "GPU is available!\n",
            "Using GPU:Tesla T4\n"
          ]
        }
      ]
    },
    {
      "cell_type": "markdown",
      "source": [
        "# Creating Tensors"
      ],
      "metadata": {
        "id": "O_e4twl1P85D"
      }
    },
    {
      "cell_type": "code",
      "source": [
        "# using empty: allocates memory with no value existing value is shown\n",
        "a=torch.empty(2,3)"
      ],
      "metadata": {
        "id": "pZ9JUVtdPOC3"
      },
      "execution_count": null,
      "outputs": []
    },
    {
      "cell_type": "code",
      "source": [
        "# check type\n",
        "type(a)"
      ],
      "metadata": {
        "colab": {
          "base_uri": "https://localhost:8080/"
        },
        "id": "vBQ9EAaESRQl",
        "outputId": "07ebc9e8-28f7-4c5a-a24b-51b2df98a402"
      },
      "execution_count": null,
      "outputs": [
        {
          "output_type": "execute_result",
          "data": {
            "text/plain": [
              "torch.Tensor"
            ]
          },
          "metadata": {},
          "execution_count": 123
        }
      ]
    },
    {
      "cell_type": "code",
      "source": [
        "# using zeros : initialise bias\n",
        "torch.zeros(2,3)"
      ],
      "metadata": {
        "colab": {
          "base_uri": "https://localhost:8080/"
        },
        "id": "XBjGn5cbShxQ",
        "outputId": "d2559d6a-3cfa-4bc8-c986-200cac5770e2"
      },
      "execution_count": null,
      "outputs": [
        {
          "output_type": "execute_result",
          "data": {
            "text/plain": [
              "tensor([[0., 0., 0.],\n",
              "        [0., 0., 0.]])"
            ]
          },
          "metadata": {},
          "execution_count": 124
        }
      ]
    },
    {
      "cell_type": "code",
      "source": [
        "# using ones\n",
        "torch.ones(2,3)"
      ],
      "metadata": {
        "colab": {
          "base_uri": "https://localhost:8080/"
        },
        "id": "Hb1O5a45SrFD",
        "outputId": "e6732366-4820-4252-b30f-3270de938137"
      },
      "execution_count": null,
      "outputs": [
        {
          "output_type": "execute_result",
          "data": {
            "text/plain": [
              "tensor([[1., 1., 1.],\n",
              "        [1., 1., 1.]])"
            ]
          },
          "metadata": {},
          "execution_count": 125
        }
      ]
    },
    {
      "cell_type": "code",
      "source": [
        "# using rand: weight initialisation\n",
        "torch.rand(2,3)"
      ],
      "metadata": {
        "colab": {
          "base_uri": "https://localhost:8080/"
        },
        "id": "wFEH7_SqSySL",
        "outputId": "b8581e9d-c5f0-4ac7-c15b-6552c0f594cc"
      },
      "execution_count": null,
      "outputs": [
        {
          "output_type": "execute_result",
          "data": {
            "text/plain": [
              "tensor([[0.3503, 0.6555, 0.7667],\n",
              "        [0.2269, 0.7555, 0.6458]])"
            ]
          },
          "metadata": {},
          "execution_count": 126
        }
      ]
    },
    {
      "cell_type": "code",
      "source": [
        "#  use of seed: same val u want everytime u run\n",
        "torch.manual_seed(100)\n",
        "torch.rand(2,3)"
      ],
      "metadata": {
        "colab": {
          "base_uri": "https://localhost:8080/"
        },
        "id": "Ylu9t-vqS2j8",
        "outputId": "50433443-0d34-4f23-c92d-79595c01dfd4"
      },
      "execution_count": null,
      "outputs": [
        {
          "output_type": "execute_result",
          "data": {
            "text/plain": [
              "tensor([[0.1117, 0.8158, 0.2626],\n",
              "        [0.4839, 0.6765, 0.7539]])"
            ]
          },
          "metadata": {},
          "execution_count": 127
        }
      ]
    },
    {
      "cell_type": "code",
      "source": [
        "# custom tensor\n",
        "torch.tensor([[1,2,3],[4,5,6]])"
      ],
      "metadata": {
        "colab": {
          "base_uri": "https://localhost:8080/"
        },
        "id": "luTGHB7uTRhp",
        "outputId": "b4c2feb5-f682-4a16-9945-405a6115b777"
      },
      "execution_count": null,
      "outputs": [
        {
          "output_type": "execute_result",
          "data": {
            "text/plain": [
              "tensor([[1, 2, 3],\n",
              "        [4, 5, 6]])"
            ]
          },
          "metadata": {},
          "execution_count": 128
        }
      ]
    },
    {
      "cell_type": "markdown",
      "source": [
        "# Other ways of creating tensors"
      ],
      "metadata": {
        "id": "e2sAidEZT7MG"
      }
    },
    {
      "cell_type": "code",
      "source": [
        "# using arange\n",
        "print(\"using arange ->\",torch.arange(0,10,2)) # jump of 2\n",
        "print(\"\\n\")\n",
        "\n",
        "# using linear space\n",
        "print(\"using linspace->\",torch.linspace(0,10,10)) # last 10 are val which are evenly spaced\n",
        "print(\"\\n\")\n",
        "\n",
        "# using eye : identity matrix (diag are ones)\n",
        "print(\"using eye ->\",torch.eye(5))\n",
        "print(\"\\n\")\n",
        "\n",
        "# using full:every item i want is 5\n",
        "print(\"using full ->\",torch.full((3,3),5))\n"
      ],
      "metadata": {
        "colab": {
          "base_uri": "https://localhost:8080/"
        },
        "id": "HwPZ2uAXTuB_",
        "outputId": "6988794c-e93b-4b35-f728-b401351eded9"
      },
      "execution_count": null,
      "outputs": [
        {
          "output_type": "stream",
          "name": "stdout",
          "text": [
            "using arange -> tensor([0, 2, 4, 6, 8])\n",
            "\n",
            "\n",
            "using linspace-> tensor([ 0.0000,  1.1111,  2.2222,  3.3333,  4.4444,  5.5556,  6.6667,  7.7778,\n",
            "         8.8889, 10.0000])\n",
            "\n",
            "\n",
            "using eye -> tensor([[1., 0., 0., 0., 0.],\n",
            "        [0., 1., 0., 0., 0.],\n",
            "        [0., 0., 1., 0., 0.],\n",
            "        [0., 0., 0., 1., 0.],\n",
            "        [0., 0., 0., 0., 1.]])\n",
            "\n",
            "\n",
            "using full -> tensor([[5, 5, 5],\n",
            "        [5, 5, 5],\n",
            "        [5, 5, 5]])\n"
          ]
        }
      ]
    },
    {
      "cell_type": "markdown",
      "source": [
        "# Tensor Shapes"
      ],
      "metadata": {
        "id": "bHL3wPb8VF2V"
      }
    },
    {
      "cell_type": "code",
      "source": [
        "x=torch.tensor([[1,2,3],[4,5,6]])\n",
        "x.shape"
      ],
      "metadata": {
        "colab": {
          "base_uri": "https://localhost:8080/"
        },
        "id": "QWqDULwQUjrM",
        "outputId": "43df5ab4-23d4-4ca7-902f-5217764ec40e"
      },
      "execution_count": null,
      "outputs": [
        {
          "output_type": "execute_result",
          "data": {
            "text/plain": [
              "torch.Size([2, 3])"
            ]
          },
          "metadata": {},
          "execution_count": 130
        }
      ]
    },
    {
      "cell_type": "code",
      "source": [
        "torch.empty_like(x) # same shape but diff vals"
      ],
      "metadata": {
        "colab": {
          "base_uri": "https://localhost:8080/"
        },
        "id": "azSrkkccVPyD",
        "outputId": "d7a77664-f622-40cd-a2c4-8c5379d51c27"
      },
      "execution_count": null,
      "outputs": [
        {
          "output_type": "execute_result",
          "data": {
            "text/plain": [
              "tensor([[                 0,       712964571136,                171],\n",
              "        [611363658005544960, 467254491549008252, 336362597247222956]])"
            ]
          },
          "metadata": {},
          "execution_count": 131
        }
      ]
    },
    {
      "cell_type": "code",
      "source": [
        "torch.zeros_like(x)"
      ],
      "metadata": {
        "colab": {
          "base_uri": "https://localhost:8080/"
        },
        "id": "0A7nQBaWVZrb",
        "outputId": "331e917c-8672-4b02-844e-005031ddbe12"
      },
      "execution_count": null,
      "outputs": [
        {
          "output_type": "execute_result",
          "data": {
            "text/plain": [
              "tensor([[0, 0, 0],\n",
              "        [0, 0, 0]])"
            ]
          },
          "metadata": {},
          "execution_count": 132
        }
      ]
    },
    {
      "cell_type": "code",
      "source": [
        "torch.ones_like(x)"
      ],
      "metadata": {
        "colab": {
          "base_uri": "https://localhost:8080/"
        },
        "id": "FUtncJu6Vi_m",
        "outputId": "02924417-c9d5-4865-f6d3-aab597bff293"
      },
      "execution_count": null,
      "outputs": [
        {
          "output_type": "execute_result",
          "data": {
            "text/plain": [
              "tensor([[1, 1, 1],\n",
              "        [1, 1, 1]])"
            ]
          },
          "metadata": {},
          "execution_count": 133
        }
      ]
    },
    {
      "cell_type": "markdown",
      "source": [
        "# Tensor Data Types"
      ],
      "metadata": {
        "id": "6vRldZbGV2U8"
      }
    },
    {
      "cell_type": "code",
      "source": [
        "# find data types\n",
        "x.dtype"
      ],
      "metadata": {
        "colab": {
          "base_uri": "https://localhost:8080/"
        },
        "id": "PgfLNUA5Vnl2",
        "outputId": "9708902b-e539-4702-b6fb-8d0b835bcc26"
      },
      "execution_count": null,
      "outputs": [
        {
          "output_type": "execute_result",
          "data": {
            "text/plain": [
              "torch.int64"
            ]
          },
          "metadata": {},
          "execution_count": 134
        }
      ]
    },
    {
      "cell_type": "code",
      "source": [
        "# assign data type\n",
        "torch.tensor([1.0,2.0,3.0],dtype=torch.int32)"
      ],
      "metadata": {
        "colab": {
          "base_uri": "https://localhost:8080/"
        },
        "id": "6vCJ5CUbWKIj",
        "outputId": "146e2341-1067-4d8e-d487-f2e95f129534"
      },
      "execution_count": null,
      "outputs": [
        {
          "output_type": "execute_result",
          "data": {
            "text/plain": [
              "tensor([1, 2, 3], dtype=torch.int32)"
            ]
          },
          "metadata": {},
          "execution_count": 135
        }
      ]
    },
    {
      "cell_type": "code",
      "source": [
        "# using to()\n",
        "x.to(torch.float32)"
      ],
      "metadata": {
        "colab": {
          "base_uri": "https://localhost:8080/"
        },
        "id": "K9h_dkMUWZoO",
        "outputId": "cd83a668-50a1-4585-fe10-4a2a6ae93bc7"
      },
      "execution_count": null,
      "outputs": [
        {
          "output_type": "execute_result",
          "data": {
            "text/plain": [
              "tensor([[1., 2., 3.],\n",
              "        [4., 5., 6.]])"
            ]
          },
          "metadata": {},
          "execution_count": 136
        }
      ]
    },
    {
      "cell_type": "markdown",
      "source": [
        "# Mathematical Operations\n",
        "\n",
        "1. Scalar Operations"
      ],
      "metadata": {
        "id": "bKVgqzN9W4cU"
      }
    },
    {
      "cell_type": "code",
      "source": [
        "# addition\n",
        "x+2\n",
        "# subtraction\n",
        "x-2\n",
        "# multiplication\n",
        "x*3\n",
        "# division\n",
        "x/3\n",
        "# int division\n",
        "(x*100)//3\n",
        "# mod\n",
        "((x*100)//3)%2\n",
        "# power\n",
        "x**2"
      ],
      "metadata": {
        "colab": {
          "base_uri": "https://localhost:8080/"
        },
        "id": "7urLyleQWpr5",
        "outputId": "b91e61a7-b74c-4fa8-f519-31ee510291d7"
      },
      "execution_count": null,
      "outputs": [
        {
          "output_type": "execute_result",
          "data": {
            "text/plain": [
              "tensor([[ 1,  4,  9],\n",
              "        [16, 25, 36]])"
            ]
          },
          "metadata": {},
          "execution_count": 137
        }
      ]
    },
    {
      "cell_type": "markdown",
      "source": [
        "2. Element wise operation"
      ],
      "metadata": {
        "id": "ISP2FyUmnA0T"
      }
    },
    {
      "cell_type": "code",
      "source": [
        "a=torch.rand(2,3)\n",
        "b=torch.rand(2,3)\n",
        "\n",
        "print(a)\n",
        "print(b)"
      ],
      "metadata": {
        "colab": {
          "base_uri": "https://localhost:8080/"
        },
        "id": "qPFYHfMBXUQb",
        "outputId": "2fb16dbc-9e48-43b8-b983-902b0f0a2186"
      },
      "execution_count": null,
      "outputs": [
        {
          "output_type": "stream",
          "name": "stdout",
          "text": [
            "tensor([[0.2627, 0.0428, 0.2080],\n",
            "        [0.1180, 0.1217, 0.7356]])\n",
            "tensor([[0.7118, 0.7876, 0.4183],\n",
            "        [0.9014, 0.9969, 0.7565]])\n"
          ]
        }
      ]
    },
    {
      "cell_type": "code",
      "source": [
        "# addition\n",
        "a+b\n",
        "\n",
        "# subtract\n",
        "a-b"
      ],
      "metadata": {
        "colab": {
          "base_uri": "https://localhost:8080/"
        },
        "id": "8nSjAoT1nJPD",
        "outputId": "17ae2386-0d85-4fb8-d338-5d0b276cc2f6"
      },
      "execution_count": null,
      "outputs": [
        {
          "output_type": "execute_result",
          "data": {
            "text/plain": [
              "tensor([[-0.4491, -0.7447, -0.2103],\n",
              "        [-0.7834, -0.8752, -0.0209]])"
            ]
          },
          "metadata": {},
          "execution_count": 139
        }
      ]
    },
    {
      "cell_type": "code",
      "source": [
        "c=torch.tensor([1,-2,3,-4])"
      ],
      "metadata": {
        "id": "huMhhjW3nOkQ"
      },
      "execution_count": null,
      "outputs": []
    },
    {
      "cell_type": "code",
      "source": [
        "# abs\n",
        "torch.abs(c)"
      ],
      "metadata": {
        "colab": {
          "base_uri": "https://localhost:8080/"
        },
        "id": "CqNNGecGnqPg",
        "outputId": "3d5d3ca9-da99-4b1e-ea4a-7dce92143f5d"
      },
      "execution_count": null,
      "outputs": [
        {
          "output_type": "execute_result",
          "data": {
            "text/plain": [
              "tensor([1, 2, 3, 4])"
            ]
          },
          "metadata": {},
          "execution_count": 141
        }
      ]
    },
    {
      "cell_type": "code",
      "source": [
        "# neg\n",
        "torch.neg(c)"
      ],
      "metadata": {
        "colab": {
          "base_uri": "https://localhost:8080/"
        },
        "id": "WtlugBUGnuS0",
        "outputId": "0a5e7ab2-74ff-4e55-e6fa-90ef6cfa4294"
      },
      "execution_count": null,
      "outputs": [
        {
          "output_type": "execute_result",
          "data": {
            "text/plain": [
              "tensor([-1,  2, -3,  4])"
            ]
          },
          "metadata": {},
          "execution_count": 142
        }
      ]
    },
    {
      "cell_type": "code",
      "source": [
        "# round\n",
        "d=torch.tensor([1.9,2.3,3.7,4.4])\n",
        "torch.round(d)"
      ],
      "metadata": {
        "colab": {
          "base_uri": "https://localhost:8080/"
        },
        "id": "jh-yHfovnyQE",
        "outputId": "60776250-50ef-4a4d-b4be-e57e64175efd"
      },
      "execution_count": null,
      "outputs": [
        {
          "output_type": "execute_result",
          "data": {
            "text/plain": [
              "tensor([2., 2., 4., 4.])"
            ]
          },
          "metadata": {},
          "execution_count": 143
        }
      ]
    },
    {
      "cell_type": "code",
      "source": [
        "# ceil\n",
        "torch.ceil(d)"
      ],
      "metadata": {
        "colab": {
          "base_uri": "https://localhost:8080/"
        },
        "id": "Yx1clCf5n_A5",
        "outputId": "065f54f5-e478-4810-9720-f5a3b3acd3f3"
      },
      "execution_count": null,
      "outputs": [
        {
          "output_type": "execute_result",
          "data": {
            "text/plain": [
              "tensor([2., 3., 4., 5.])"
            ]
          },
          "metadata": {},
          "execution_count": 144
        }
      ]
    },
    {
      "cell_type": "code",
      "source": [
        "torch.floor(d)"
      ],
      "metadata": {
        "colab": {
          "base_uri": "https://localhost:8080/"
        },
        "id": "wRZZR9BUoJzC",
        "outputId": "aefff49b-2372-48dc-dd9d-5263c3a694e7"
      },
      "execution_count": null,
      "outputs": [
        {
          "output_type": "execute_result",
          "data": {
            "text/plain": [
              "tensor([1., 2., 3., 4.])"
            ]
          },
          "metadata": {},
          "execution_count": 145
        }
      ]
    },
    {
      "cell_type": "code",
      "source": [
        "# clamp: keep it in rangethreshold kinda) -> 1.9 = 2 and 3.7 becomes 3\n",
        "torch.clamp(d,min=2,max=3)"
      ],
      "metadata": {
        "colab": {
          "base_uri": "https://localhost:8080/"
        },
        "id": "tSn-j8pxoSLJ",
        "outputId": "ba9a9c3b-d49b-48b8-b932-b30609f1b94e"
      },
      "execution_count": null,
      "outputs": [
        {
          "output_type": "execute_result",
          "data": {
            "text/plain": [
              "tensor([2.0000, 2.3000, 3.0000, 3.0000])"
            ]
          },
          "metadata": {},
          "execution_count": 146
        }
      ]
    },
    {
      "cell_type": "markdown",
      "source": [
        "# Reduction operation"
      ],
      "metadata": {
        "id": "-WgumrvJozTb"
      }
    },
    {
      "cell_type": "code",
      "source": [
        "e=torch.randint(size=(2,3),low=0,high=10,dtype=torch.float32)\n",
        "e"
      ],
      "metadata": {
        "colab": {
          "base_uri": "https://localhost:8080/"
        },
        "id": "BNJgn-duoe8d",
        "outputId": "e28aa94d-3d04-4beb-ada4-7bbdbf94e247"
      },
      "execution_count": null,
      "outputs": [
        {
          "output_type": "execute_result",
          "data": {
            "text/plain": [
              "tensor([[4., 3., 8.],\n",
              "        [7., 4., 6.]])"
            ]
          },
          "metadata": {},
          "execution_count": 147
        }
      ]
    },
    {
      "cell_type": "code",
      "source": [
        "# sum\n",
        "torch.sum(e)"
      ],
      "metadata": {
        "colab": {
          "base_uri": "https://localhost:8080/"
        },
        "id": "Qcg6xm4DtsNO",
        "outputId": "0476212d-efed-459e-e442-a488b995ac2b"
      },
      "execution_count": null,
      "outputs": [
        {
          "output_type": "execute_result",
          "data": {
            "text/plain": [
              "tensor(32.)"
            ]
          },
          "metadata": {},
          "execution_count": 148
        }
      ]
    },
    {
      "cell_type": "code",
      "source": [
        "# sum along columns\n",
        "torch.sum(e,dim=0)"
      ],
      "metadata": {
        "colab": {
          "base_uri": "https://localhost:8080/"
        },
        "id": "pkiN68Aiuvyp",
        "outputId": "d5210f96-8a9d-45d9-da97-23e2d3e0fa6e"
      },
      "execution_count": null,
      "outputs": [
        {
          "output_type": "execute_result",
          "data": {
            "text/plain": [
              "tensor([11.,  7., 14.])"
            ]
          },
          "metadata": {},
          "execution_count": 149
        }
      ]
    },
    {
      "cell_type": "code",
      "source": [
        "# sum along rows\n",
        "torch.sum(e,dim=1)"
      ],
      "metadata": {
        "colab": {
          "base_uri": "https://localhost:8080/"
        },
        "id": "dUHW8tkIu5On",
        "outputId": "9364449f-4ed5-4523-dc73-efacee4a44b3"
      },
      "execution_count": null,
      "outputs": [
        {
          "output_type": "execute_result",
          "data": {
            "text/plain": [
              "tensor([15., 17.])"
            ]
          },
          "metadata": {},
          "execution_count": 150
        }
      ]
    },
    {
      "cell_type": "code",
      "source": [
        "# mean : works only for float\n",
        "torch.mean(e)"
      ],
      "metadata": {
        "colab": {
          "base_uri": "https://localhost:8080/"
        },
        "id": "VPtkeSRovqmq",
        "outputId": "85a8cda6-7ffd-4449-bff3-66a5d69e6a89"
      },
      "execution_count": null,
      "outputs": [
        {
          "output_type": "execute_result",
          "data": {
            "text/plain": [
              "tensor(5.3333)"
            ]
          },
          "metadata": {},
          "execution_count": 151
        }
      ]
    },
    {
      "cell_type": "code",
      "source": [
        "# median\n",
        "torch.median(e)"
      ],
      "metadata": {
        "colab": {
          "base_uri": "https://localhost:8080/"
        },
        "id": "dsS3aEQtvwbI",
        "outputId": "0d63b1c2-412f-4fc8-ab30-21951be7a76b"
      },
      "execution_count": null,
      "outputs": [
        {
          "output_type": "execute_result",
          "data": {
            "text/plain": [
              "tensor(4.)"
            ]
          },
          "metadata": {},
          "execution_count": 152
        }
      ]
    },
    {
      "cell_type": "code",
      "source": [
        "# max min\n",
        "torch.max(e)\n",
        "torch.min(e)"
      ],
      "metadata": {
        "colab": {
          "base_uri": "https://localhost:8080/"
        },
        "id": "O7a8KyjlwTr-",
        "outputId": "d9d41dda-b4aa-4880-a4cc-c190a0571289"
      },
      "execution_count": null,
      "outputs": [
        {
          "output_type": "execute_result",
          "data": {
            "text/plain": [
              "tensor(3.)"
            ]
          },
          "metadata": {},
          "execution_count": 153
        }
      ]
    },
    {
      "cell_type": "code",
      "source": [
        "torch.prod(e)\n",
        "\n",
        "torch.std(e)\n",
        "\n",
        "torch.var(e)\n",
        "\n",
        "torch.argmax(e) # gives the index of max val\n",
        "\n",
        "torch.argmin(e) # gives the index of min val"
      ],
      "metadata": {
        "colab": {
          "base_uri": "https://localhost:8080/"
        },
        "id": "A9zdM9nawbMD",
        "outputId": "5324c11f-1f22-4590-af22-f96c0e5dc687"
      },
      "execution_count": null,
      "outputs": [
        {
          "output_type": "execute_result",
          "data": {
            "text/plain": [
              "tensor(1)"
            ]
          },
          "metadata": {},
          "execution_count": 154
        }
      ]
    },
    {
      "cell_type": "markdown",
      "source": [
        "# Matrix Operations"
      ],
      "metadata": {
        "id": "_9DQn-oOxHpc"
      }
    },
    {
      "cell_type": "code",
      "source": [
        "f=torch.randint(size=(2,3),low=0,high=10)\n",
        "g=torch.randint(size=(3,2),low=0,high=10)\n",
        "print(f)\n",
        "print(g)"
      ],
      "metadata": {
        "colab": {
          "base_uri": "https://localhost:8080/"
        },
        "id": "924AxeaYwur_",
        "outputId": "f53356ef-6b06-4029-9243-f1fb8aaeb2ab"
      },
      "execution_count": null,
      "outputs": [
        {
          "output_type": "stream",
          "name": "stdout",
          "text": [
            "tensor([[0, 1, 9],\n",
            "        [9, 8, 0]])\n",
            "tensor([[7, 0],\n",
            "        [0, 9],\n",
            "        [5, 7]])\n"
          ]
        }
      ]
    },
    {
      "cell_type": "code",
      "source": [
        "# matrix multiplication\n",
        "torch.matmul(f,g)"
      ],
      "metadata": {
        "colab": {
          "base_uri": "https://localhost:8080/"
        },
        "id": "6o_xgEecxTUv",
        "outputId": "9300497a-3197-43ad-96fc-9c0b474e7cdf"
      },
      "execution_count": null,
      "outputs": [
        {
          "output_type": "execute_result",
          "data": {
            "text/plain": [
              "tensor([[45, 72],\n",
              "        [63, 72]])"
            ]
          },
          "metadata": {},
          "execution_count": 156
        }
      ]
    },
    {
      "cell_type": "code",
      "source": [
        "vector1=torch.tensor([1,2])\n",
        "vector2=torch.tensor([3,4])"
      ],
      "metadata": {
        "id": "-2MhCM6Exemb"
      },
      "execution_count": null,
      "outputs": []
    },
    {
      "cell_type": "code",
      "source": [
        "# dot product\n",
        "torch.dot(vector1,vector2)\n",
        "\n",
        "# 3*1+4*2=11"
      ],
      "metadata": {
        "colab": {
          "base_uri": "https://localhost:8080/"
        },
        "id": "_sO-np4Hy2zB",
        "outputId": "3caffdb3-6bc0-4da2-e495-59b27733c281"
      },
      "execution_count": null,
      "outputs": [
        {
          "output_type": "execute_result",
          "data": {
            "text/plain": [
              "tensor(11)"
            ]
          },
          "metadata": {},
          "execution_count": 158
        }
      ]
    },
    {
      "cell_type": "code",
      "source": [
        "# transpose\n",
        "f"
      ],
      "metadata": {
        "colab": {
          "base_uri": "https://localhost:8080/"
        },
        "id": "6HoIQ4v_y78W",
        "outputId": "d6762699-70c9-4922-ed40-ee80e78da540"
      },
      "execution_count": null,
      "outputs": [
        {
          "output_type": "execute_result",
          "data": {
            "text/plain": [
              "tensor([[0, 1, 9],\n",
              "        [9, 8, 0]])"
            ]
          },
          "metadata": {},
          "execution_count": 159
        }
      ]
    },
    {
      "cell_type": "code",
      "source": [
        "torch.transpose(f,0,1)\n",
        "# 0: dim to be swapped\n",
        "# 1: swap with the col"
      ],
      "metadata": {
        "colab": {
          "base_uri": "https://localhost:8080/"
        },
        "id": "hFVo2Maozu72",
        "outputId": "444a7f2b-9fab-4fc2-ce70-587546b536f3"
      },
      "execution_count": null,
      "outputs": [
        {
          "output_type": "execute_result",
          "data": {
            "text/plain": [
              "tensor([[0, 9],\n",
              "        [1, 8],\n",
              "        [9, 0]])"
            ]
          },
          "metadata": {},
          "execution_count": 160
        }
      ]
    },
    {
      "cell_type": "code",
      "source": [
        "g=torch.randint(size=(3,3),low=0,high=10,dtype=torch.float32)\n",
        "g"
      ],
      "metadata": {
        "colab": {
          "base_uri": "https://localhost:8080/"
        },
        "id": "tde9HF8l0mGo",
        "outputId": "844994cb-b4c7-4b6b-d7eb-60b580be6fa7"
      },
      "execution_count": null,
      "outputs": [
        {
          "output_type": "execute_result",
          "data": {
            "text/plain": [
              "tensor([[3., 9., 4.],\n",
              "        [0., 5., 7.],\n",
              "        [5., 9., 9.]])"
            ]
          },
          "metadata": {},
          "execution_count": 161
        }
      ]
    },
    {
      "cell_type": "code",
      "source": [
        "torch.det(g)\n",
        "# ad-bc"
      ],
      "metadata": {
        "colab": {
          "base_uri": "https://localhost:8080/"
        },
        "id": "LHWXueZl15lL",
        "outputId": "19a779c9-2ab7-4b71-ef1c-c63a8caa1073"
      },
      "execution_count": null,
      "outputs": [
        {
          "output_type": "execute_result",
          "data": {
            "text/plain": [
              "tensor(161.)"
            ]
          },
          "metadata": {},
          "execution_count": 162
        }
      ]
    },
    {
      "cell_type": "code",
      "source": [
        "torch.inverse(g)"
      ],
      "metadata": {
        "colab": {
          "base_uri": "https://localhost:8080/"
        },
        "id": "Y0gkw1iB2MYd",
        "outputId": "4145b586-fc21-41a8-d1ef-45fa5c4c50b3"
      },
      "execution_count": null,
      "outputs": [
        {
          "output_type": "execute_result",
          "data": {
            "text/plain": [
              "tensor([[-0.1118, -0.2795,  0.2671],\n",
              "        [ 0.2174,  0.0435, -0.1304],\n",
              "        [-0.1553,  0.1118,  0.0932]])"
            ]
          },
          "metadata": {},
          "execution_count": 163
        }
      ]
    },
    {
      "cell_type": "markdown",
      "source": [
        "# Comparison Operators"
      ],
      "metadata": {
        "id": "KGBPyEUH5PqD"
      }
    },
    {
      "cell_type": "code",
      "source": [
        "i=torch.randint(size=(2,3),low=0,high=10)\n",
        "j=torch.randint(size=(2,3),low=0,high=10)\n",
        "print(i)\n",
        "print(j)"
      ],
      "metadata": {
        "colab": {
          "base_uri": "https://localhost:8080/"
        },
        "id": "5BCZYztM4mxk",
        "outputId": "9f2729c0-e64e-480b-b490-acb346057d37"
      },
      "execution_count": null,
      "outputs": [
        {
          "output_type": "stream",
          "name": "stdout",
          "text": [
            "tensor([[7, 5, 9],\n",
            "        [8, 9, 7]])\n",
            "tensor([[9, 2, 6],\n",
            "        [7, 7, 8]])\n"
          ]
        }
      ]
    },
    {
      "cell_type": "code",
      "source": [
        "# greater than\n",
        "i>j\n",
        "\n",
        "# less than\n",
        "i<j\n",
        "\n",
        "# equal to\n",
        "i==j\n",
        "\n",
        "# not equal to\n",
        "i!=j\n",
        "\n",
        "# greater than equal to\n",
        "i>=j\n",
        "# less than equal to\n",
        "i<=j"
      ],
      "metadata": {
        "colab": {
          "base_uri": "https://localhost:8080/"
        },
        "id": "ffuR9_iu4ytt",
        "outputId": "27dc32a8-e3b8-4b1c-e48b-f5a87708c761"
      },
      "execution_count": null,
      "outputs": [
        {
          "output_type": "execute_result",
          "data": {
            "text/plain": [
              "tensor([[ True, False, False],\n",
              "        [False, False,  True]])"
            ]
          },
          "metadata": {},
          "execution_count": 165
        }
      ]
    },
    {
      "cell_type": "markdown",
      "source": [
        "# Special Functions"
      ],
      "metadata": {
        "id": "CFKpuh7852V3"
      }
    },
    {
      "cell_type": "code",
      "source": [
        "k=torch.randint(size=(2,3),low=0,high=10)\n",
        "k"
      ],
      "metadata": {
        "colab": {
          "base_uri": "https://localhost:8080/"
        },
        "id": "e0r7PTvj41RX",
        "outputId": "da520609-3d16-4d98-f8c6-de03cb38b298"
      },
      "execution_count": null,
      "outputs": [
        {
          "output_type": "execute_result",
          "data": {
            "text/plain": [
              "tensor([[3, 6, 1],\n",
              "        [5, 5, 0]])"
            ]
          },
          "metadata": {},
          "execution_count": 166
        }
      ]
    },
    {
      "cell_type": "code",
      "source": [
        "# log\n",
        "torch.log(k)\n",
        "# exp\n",
        "torch.exp(k)\n",
        "# sqrt\n",
        "torch.sqrt(k)\n",
        "# sigmoid\n",
        "torch.sigmoid(k)"
      ],
      "metadata": {
        "colab": {
          "base_uri": "https://localhost:8080/"
        },
        "id": "SdlMdubJ5-bP",
        "outputId": "285fa521-94ce-407b-f702-90d7896b65df"
      },
      "execution_count": null,
      "outputs": [
        {
          "output_type": "execute_result",
          "data": {
            "text/plain": [
              "tensor([[0.9526, 0.9975, 0.7311],\n",
              "        [0.9933, 0.9933, 0.5000]])"
            ]
          },
          "metadata": {},
          "execution_count": 167
        }
      ]
    },
    {
      "cell_type": "code",
      "source": [
        "torch.relu(k)"
      ],
      "metadata": {
        "colab": {
          "base_uri": "https://localhost:8080/"
        },
        "id": "IHEXdGq86G5n",
        "outputId": "9b4806c5-9907-41b1-92f0-06d4effd511f"
      },
      "execution_count": null,
      "outputs": [
        {
          "output_type": "execute_result",
          "data": {
            "text/plain": [
              "tensor([[3, 6, 1],\n",
              "        [5, 5, 0]])"
            ]
          },
          "metadata": {},
          "execution_count": 168
        }
      ]
    },
    {
      "cell_type": "markdown",
      "source": [
        "# Inplace operation : use underscore (saves space)"
      ],
      "metadata": {
        "id": "QkqK31DK7ReI"
      }
    },
    {
      "cell_type": "code",
      "source": [
        "m=torch.rand(2,3)\n",
        "n=torch.rand(2,3)\n",
        "\n",
        "print(m)\n",
        "print(n)"
      ],
      "metadata": {
        "colab": {
          "base_uri": "https://localhost:8080/"
        },
        "id": "Kz-U6bZ-6PrO",
        "outputId": "aad9079b-ff91-4ff3-ea42-a563272eaea6"
      },
      "execution_count": null,
      "outputs": [
        {
          "output_type": "stream",
          "name": "stdout",
          "text": [
            "tensor([[0.9233, 0.9178, 0.7590],\n",
            "        [0.7775, 0.6179, 0.3379]])\n",
            "tensor([[0.2170, 0.9454, 0.7116],\n",
            "        [0.1157, 0.6574, 0.3451]])\n"
          ]
        }
      ]
    },
    {
      "cell_type": "code",
      "source": [
        "m+n"
      ],
      "metadata": {
        "colab": {
          "base_uri": "https://localhost:8080/"
        },
        "id": "D4zdBn-n7PQr",
        "outputId": "7102825a-bf49-4156-b100-945eb46d4929"
      },
      "execution_count": null,
      "outputs": [
        {
          "output_type": "execute_result",
          "data": {
            "text/plain": [
              "tensor([[1.1403, 1.8632, 1.4706],\n",
              "        [0.8933, 1.2752, 0.6830]])"
            ]
          },
          "metadata": {},
          "execution_count": 170
        }
      ]
    },
    {
      "cell_type": "code",
      "source": [
        "m.add_(n) # the val gets added in m itself"
      ],
      "metadata": {
        "colab": {
          "base_uri": "https://localhost:8080/"
        },
        "id": "vY7SDHk_7W9j",
        "outputId": "4c8b1c39-212f-491b-abf3-0c53c11379b3"
      },
      "execution_count": null,
      "outputs": [
        {
          "output_type": "execute_result",
          "data": {
            "text/plain": [
              "tensor([[1.1403, 1.8632, 1.4706],\n",
              "        [0.8933, 1.2752, 0.6830]])"
            ]
          },
          "metadata": {},
          "execution_count": 171
        }
      ]
    },
    {
      "cell_type": "code",
      "source": [
        "m"
      ],
      "metadata": {
        "colab": {
          "base_uri": "https://localhost:8080/"
        },
        "id": "2DS-uFHJ7YrR",
        "outputId": "73aefafd-709c-41ff-b85c-c2c5c3a7618c"
      },
      "execution_count": null,
      "outputs": [
        {
          "output_type": "execute_result",
          "data": {
            "text/plain": [
              "tensor([[1.1403, 1.8632, 1.4706],\n",
              "        [0.8933, 1.2752, 0.6830]])"
            ]
          },
          "metadata": {},
          "execution_count": 172
        }
      ]
    },
    {
      "cell_type": "markdown",
      "source": [
        "# Copying a tensor"
      ],
      "metadata": {
        "id": "HjJVu2al8Atv"
      }
    },
    {
      "cell_type": "code",
      "source": [
        "a=torch.rand(2,3)\n",
        "a"
      ],
      "metadata": {
        "colab": {
          "base_uri": "https://localhost:8080/"
        },
        "id": "CcPNuCH17odz",
        "outputId": "f055b378-e38f-46fe-c796-9e1295c1de39"
      },
      "execution_count": null,
      "outputs": [
        {
          "output_type": "execute_result",
          "data": {
            "text/plain": [
              "tensor([[0.0453, 0.9798, 0.5548],\n",
              "        [0.6868, 0.4920, 0.0748]])"
            ]
          },
          "metadata": {},
          "execution_count": 173
        }
      ]
    },
    {
      "cell_type": "code",
      "source": [
        "b = a.clone()"
      ],
      "metadata": {
        "id": "Rd2Hdz1e8ETz"
      },
      "execution_count": null,
      "outputs": []
    },
    {
      "cell_type": "code",
      "source": [
        "a"
      ],
      "metadata": {
        "colab": {
          "base_uri": "https://localhost:8080/"
        },
        "id": "F5zWuqos8ZU6",
        "outputId": "c257a0bb-850d-477a-b6a2-d1e6ce7f09e3"
      },
      "execution_count": null,
      "outputs": [
        {
          "output_type": "execute_result",
          "data": {
            "text/plain": [
              "tensor([[0.0453, 0.9798, 0.5548],\n",
              "        [0.6868, 0.4920, 0.0748]])"
            ]
          },
          "metadata": {},
          "execution_count": 175
        }
      ]
    },
    {
      "cell_type": "code",
      "source": [
        "b"
      ],
      "metadata": {
        "colab": {
          "base_uri": "https://localhost:8080/"
        },
        "id": "PbWuYwsf8aQL",
        "outputId": "107bfbe4-8abd-4d02-f89d-ed11507a00f9"
      },
      "execution_count": null,
      "outputs": [
        {
          "output_type": "execute_result",
          "data": {
            "text/plain": [
              "tensor([[0.0453, 0.9798, 0.5548],\n",
              "        [0.6868, 0.4920, 0.0748]])"
            ]
          },
          "metadata": {},
          "execution_count": 176
        }
      ]
    },
    {
      "cell_type": "code",
      "source": [
        "a[0][0]=10"
      ],
      "metadata": {
        "id": "HEFNA1Xs8bA_"
      },
      "execution_count": null,
      "outputs": []
    },
    {
      "cell_type": "code",
      "source": [
        "a"
      ],
      "metadata": {
        "colab": {
          "base_uri": "https://localhost:8080/"
        },
        "id": "aZb90yMd8ctQ",
        "outputId": "fc42ecf9-c93f-4499-ec43-635b87ca7aa9"
      },
      "execution_count": null,
      "outputs": [
        {
          "output_type": "execute_result",
          "data": {
            "text/plain": [
              "tensor([[10.0000,  0.9798,  0.5548],\n",
              "        [ 0.6868,  0.4920,  0.0748]])"
            ]
          },
          "metadata": {},
          "execution_count": 178
        }
      ]
    },
    {
      "cell_type": "markdown",
      "source": [
        "# a's val changed and not b"
      ],
      "metadata": {
        "id": "keEMnzQW8u28"
      }
    },
    {
      "cell_type": "code",
      "source": [
        "b"
      ],
      "metadata": {
        "colab": {
          "base_uri": "https://localhost:8080/"
        },
        "id": "dE58m0k38fqC",
        "outputId": "94204a60-bfbd-46ec-ee59-d07834f2a935"
      },
      "execution_count": null,
      "outputs": [
        {
          "output_type": "execute_result",
          "data": {
            "text/plain": [
              "tensor([[0.0453, 0.9798, 0.5548],\n",
              "        [0.6868, 0.4920, 0.0748]])"
            ]
          },
          "metadata": {},
          "execution_count": 179
        }
      ]
    },
    {
      "cell_type": "markdown",
      "source": [
        "# Tensor Operations on GPU"
      ],
      "metadata": {
        "id": "EkwBcT7A9EAd"
      }
    },
    {
      "cell_type": "code",
      "source": [
        "device=torch.device('cuda')"
      ],
      "metadata": {
        "id": "R6I-pHWj9KWz"
      },
      "execution_count": null,
      "outputs": []
    },
    {
      "cell_type": "code",
      "source": [
        "# creating a new tensor on GPU\n",
        "torch.rand((2,3),device=device)"
      ],
      "metadata": {
        "colab": {
          "base_uri": "https://localhost:8080/"
        },
        "id": "ICdO0_N49Zng",
        "outputId": "41d73b00-2fe3-48d1-dd5a-7255ac1de78d"
      },
      "execution_count": null,
      "outputs": [
        {
          "output_type": "execute_result",
          "data": {
            "text/plain": [
              "tensor([[0.3563, 0.0303, 0.7088],\n",
              "        [0.2009, 0.0224, 0.9896]], device='cuda:0')"
            ]
          },
          "metadata": {},
          "execution_count": 183
        }
      ]
    },
    {
      "cell_type": "code",
      "source": [
        "a=torch.rand(2,3)\n",
        "a"
      ],
      "metadata": {
        "colab": {
          "base_uri": "https://localhost:8080/"
        },
        "id": "AyFNUtmI9kWB",
        "outputId": "8dc42c15-72b1-4e7b-f518-4323a63dd80b"
      },
      "execution_count": null,
      "outputs": [
        {
          "output_type": "execute_result",
          "data": {
            "text/plain": [
              "tensor([[0.9605, 0.3271, 0.0103],\n",
              "        [0.9516, 0.2855, 0.2324]])"
            ]
          },
          "metadata": {},
          "execution_count": 185
        }
      ]
    },
    {
      "cell_type": "code",
      "source": [
        "b=a.to(device)"
      ],
      "metadata": {
        "id": "be_EX4ks9uS6"
      },
      "execution_count": null,
      "outputs": []
    },
    {
      "cell_type": "markdown",
      "source": [
        "# Reshaping Tensors"
      ],
      "metadata": {
        "id": "9UCRtUWQ-Mbx"
      }
    },
    {
      "cell_type": "code",
      "source": [
        "a=torch.ones(4,4)"
      ],
      "metadata": {
        "id": "UIotMli79zpQ"
      },
      "execution_count": null,
      "outputs": []
    },
    {
      "cell_type": "code",
      "source": [
        "# reshape\n",
        "a.reshape(2,2,2,2)\n",
        "\n",
        "# The first dimension has size 2 (i.e., 2 blocks).\n",
        "# The second dimension has size 2 (i.e., 2 \"rows\" per block).\n",
        "# The third dimension has size 2 (i.e., 2 \"columns\" per row).\n",
        "# The fourth dimension has size 2 (i.e., 2 elements per column)."
      ],
      "metadata": {
        "colab": {
          "base_uri": "https://localhost:8080/"
        },
        "id": "4u__vEeV-XBs",
        "outputId": "e922902b-4ee1-4c11-b2cf-98d0e3f5ea76"
      },
      "execution_count": null,
      "outputs": [
        {
          "output_type": "execute_result",
          "data": {
            "text/plain": [
              "tensor([[[[1., 1.],\n",
              "          [1., 1.]],\n",
              "\n",
              "         [[1., 1.],\n",
              "          [1., 1.]]],\n",
              "\n",
              "\n",
              "        [[[1., 1.],\n",
              "          [1., 1.]],\n",
              "\n",
              "         [[1., 1.],\n",
              "          [1., 1.]]]])"
            ]
          },
          "metadata": {},
          "execution_count": 205
        }
      ]
    },
    {
      "cell_type": "code",
      "source": [
        "# flatten\n",
        "a.flatten()"
      ],
      "metadata": {
        "colab": {
          "base_uri": "https://localhost:8080/"
        },
        "id": "kVEdGUFf-ZO2",
        "outputId": "db0125a8-3b81-4fd0-ee60-9b70f5a40252"
      },
      "execution_count": null,
      "outputs": [
        {
          "output_type": "execute_result",
          "data": {
            "text/plain": [
              "tensor([1., 1., 1., 1., 1., 1., 1., 1., 1.])"
            ]
          },
          "metadata": {},
          "execution_count": 198
        }
      ]
    },
    {
      "cell_type": "code",
      "source": [
        "b=torch.rand(2,3,4)"
      ],
      "metadata": {
        "id": "C4v7hLB7-fq5"
      },
      "execution_count": null,
      "outputs": []
    },
    {
      "cell_type": "code",
      "source": [
        "b.permute(2,1,0).shape"
      ],
      "metadata": {
        "colab": {
          "base_uri": "https://localhost:8080/"
        },
        "id": "uLEJpPL6_5x9",
        "outputId": "c9c37813-41f2-490c-f172-d1364c699cae"
      },
      "execution_count": null,
      "outputs": [
        {
          "output_type": "execute_result",
          "data": {
            "text/plain": [
              "torch.Size([4, 3, 2])"
            ]
          },
          "metadata": {},
          "execution_count": 209
        }
      ]
    },
    {
      "cell_type": "code",
      "source": [
        "# unsqueeze\n",
        "\n",
        "c=torch.rand(226,226,3) # image size"
      ],
      "metadata": {
        "id": "j7ob8N5XADKh"
      },
      "execution_count": null,
      "outputs": []
    },
    {
      "cell_type": "markdown",
      "source": [
        "# add a new dimension at that position"
      ],
      "metadata": {
        "id": "O7WUxVlUAW9J"
      }
    },
    {
      "cell_type": "code",
      "source": [
        "c.unsqueeze(0).shape"
      ],
      "metadata": {
        "colab": {
          "base_uri": "https://localhost:8080/"
        },
        "id": "WnWsAv-lARmX",
        "outputId": "6409ebbb-373b-480a-9b4e-b970de05baf6"
      },
      "execution_count": null,
      "outputs": [
        {
          "output_type": "execute_result",
          "data": {
            "text/plain": [
              "torch.Size([1, 226, 226, 3])"
            ]
          },
          "metadata": {},
          "execution_count": 211
        }
      ]
    },
    {
      "cell_type": "code",
      "source": [
        "d=torch.rand(1,20)\n",
        "d"
      ],
      "metadata": {
        "colab": {
          "base_uri": "https://localhost:8080/"
        },
        "id": "wBYtkXB2AVlz",
        "outputId": "a3f0cb4b-c654-4686-c2e4-811c675ff08b"
      },
      "execution_count": null,
      "outputs": [
        {
          "output_type": "execute_result",
          "data": {
            "text/plain": [
              "tensor([[0.3780, 0.7077, 0.7936, 0.2313, 0.6106, 0.0260, 0.9428, 0.8335, 0.6601,\n",
              "         0.2328, 0.9062, 0.9867, 0.5495, 0.1893, 0.8159, 0.7631, 0.0105, 0.1216,\n",
              "         0.4416, 0.8206]])"
            ]
          },
          "metadata": {},
          "execution_count": 213
        }
      ]
    },
    {
      "cell_type": "code",
      "source": [
        "d.squeeze(0).shape"
      ],
      "metadata": {
        "colab": {
          "base_uri": "https://localhost:8080/"
        },
        "id": "S-77XMSxAsXH",
        "outputId": "5019391b-ffc0-4079-917d-581ee3a1214f"
      },
      "execution_count": null,
      "outputs": [
        {
          "output_type": "execute_result",
          "data": {
            "text/plain": [
              "torch.Size([20])"
            ]
          },
          "metadata": {},
          "execution_count": 214
        }
      ]
    },
    {
      "cell_type": "markdown",
      "source": [
        "# Numpy & Pytorch (conversion)"
      ],
      "metadata": {
        "id": "iFwTJyPsA0Ni"
      }
    },
    {
      "cell_type": "code",
      "source": [
        "import numpy as np"
      ],
      "metadata": {
        "id": "WwoU8Py3Au3E"
      },
      "execution_count": null,
      "outputs": []
    },
    {
      "cell_type": "code",
      "source": [
        "a=torch.tensor([1,2,3])\n",
        "a"
      ],
      "metadata": {
        "colab": {
          "base_uri": "https://localhost:8080/"
        },
        "id": "X-2nOndSA5gM",
        "outputId": "b42a8d75-6d4b-4e98-b7ce-55e7800d0aa3"
      },
      "execution_count": null,
      "outputs": [
        {
          "output_type": "execute_result",
          "data": {
            "text/plain": [
              "tensor([1, 2, 3])"
            ]
          },
          "metadata": {},
          "execution_count": 217
        }
      ]
    },
    {
      "cell_type": "markdown",
      "source": [
        "convert to numpy"
      ],
      "metadata": {
        "id": "fkFzKf9qBBRp"
      }
    },
    {
      "cell_type": "code",
      "source": [
        "b=a.numpy()\n",
        "type(b)"
      ],
      "metadata": {
        "colab": {
          "base_uri": "https://localhost:8080/"
        },
        "id": "qftsXsBYA71P",
        "outputId": "eeac125c-0aa0-42a0-bb69-9a4db9e1e810"
      },
      "execution_count": null,
      "outputs": [
        {
          "output_type": "execute_result",
          "data": {
            "text/plain": [
              "numpy.ndarray"
            ]
          },
          "metadata": {},
          "execution_count": 219
        }
      ]
    },
    {
      "cell_type": "code",
      "source": [
        "c=np.array([1,2,3])\n",
        "c"
      ],
      "metadata": {
        "colab": {
          "base_uri": "https://localhost:8080/"
        },
        "id": "1AlKQqNbA-fX",
        "outputId": "22675c61-b5b7-40fb-c83b-e557bdbee4aa"
      },
      "execution_count": null,
      "outputs": [
        {
          "output_type": "execute_result",
          "data": {
            "text/plain": [
              "array([1, 2, 3])"
            ]
          },
          "metadata": {},
          "execution_count": 220
        }
      ]
    },
    {
      "cell_type": "markdown",
      "source": [
        "convert to pytorch tensor"
      ],
      "metadata": {
        "id": "OZn0vBTABJQM"
      }
    },
    {
      "cell_type": "code",
      "source": [
        "torch.from_numpy(c)"
      ],
      "metadata": {
        "colab": {
          "base_uri": "https://localhost:8080/"
        },
        "id": "qznZpvB_BHA2",
        "outputId": "af266f19-6c8d-43bd-fe27-b36d95928151"
      },
      "execution_count": null,
      "outputs": [
        {
          "output_type": "execute_result",
          "data": {
            "text/plain": [
              "tensor([1, 2, 3])"
            ]
          },
          "metadata": {},
          "execution_count": 221
        }
      ]
    },
    {
      "cell_type": "code",
      "source": [],
      "metadata": {
        "id": "hRn_2QIlBTDI"
      },
      "execution_count": null,
      "outputs": []
    }
  ]
}